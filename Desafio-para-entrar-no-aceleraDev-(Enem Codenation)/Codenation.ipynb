{
 "cells": [
  {
   "cell_type": "code",
   "execution_count": 271,
   "metadata": {},
   "outputs": [],
   "source": [
    "%matplotlib inline\n",
    "import numpy as np\n",
    "import pandas as pd\n",
    "import scipy.stats as stats\n",
    "import matplotlib.pyplot as plt\n",
    "from sklearn.model_selection import train_test_split\n",
    "from sklearn.linear_model import LinearRegression"
   ]
  },
  {
   "cell_type": "code",
   "execution_count": 272,
   "metadata": {},
   "outputs": [],
   "source": [
    "df = pd.read_csv('train.csv')"
   ]
  },
  {
   "cell_type": "code",
   "execution_count": 273,
   "metadata": {},
   "outputs": [
    {
     "data": {
      "text/html": [
       "<div>\n",
       "<style scoped>\n",
       "    .dataframe tbody tr th:only-of-type {\n",
       "        vertical-align: middle;\n",
       "    }\n",
       "\n",
       "    .dataframe tbody tr th {\n",
       "        vertical-align: top;\n",
       "    }\n",
       "\n",
       "    .dataframe thead th {\n",
       "        text-align: right;\n",
       "    }\n",
       "</style>\n",
       "<table border=\"1\" class=\"dataframe\">\n",
       "  <thead>\n",
       "    <tr style=\"text-align: right;\">\n",
       "      <th></th>\n",
       "      <th>Unnamed: 0</th>\n",
       "      <th>NU_INSCRICAO</th>\n",
       "      <th>NU_ANO</th>\n",
       "      <th>CO_MUNICIPIO_RESIDENCIA</th>\n",
       "      <th>NO_MUNICIPIO_RESIDENCIA</th>\n",
       "      <th>CO_UF_RESIDENCIA</th>\n",
       "      <th>SG_UF_RESIDENCIA</th>\n",
       "      <th>NU_IDADE</th>\n",
       "      <th>TP_SEXO</th>\n",
       "      <th>TP_ESTADO_CIVIL</th>\n",
       "      <th>...</th>\n",
       "      <th>Q041</th>\n",
       "      <th>Q042</th>\n",
       "      <th>Q043</th>\n",
       "      <th>Q044</th>\n",
       "      <th>Q045</th>\n",
       "      <th>Q046</th>\n",
       "      <th>Q047</th>\n",
       "      <th>Q048</th>\n",
       "      <th>Q049</th>\n",
       "      <th>Q050</th>\n",
       "    </tr>\n",
       "  </thead>\n",
       "  <tbody>\n",
       "    <tr>\n",
       "      <th>0</th>\n",
       "      <td>1</td>\n",
       "      <td>ed50e8aaa58e7a806c337585efee9ca41f1eb1ad</td>\n",
       "      <td>2016</td>\n",
       "      <td>4314902</td>\n",
       "      <td>Porto Alegre</td>\n",
       "      <td>43</td>\n",
       "      <td>RS</td>\n",
       "      <td>24</td>\n",
       "      <td>M</td>\n",
       "      <td>0.0</td>\n",
       "      <td>...</td>\n",
       "      <td>5.0</td>\n",
       "      <td>A</td>\n",
       "      <td>A</td>\n",
       "      <td>A</td>\n",
       "      <td>A</td>\n",
       "      <td>A</td>\n",
       "      <td>A</td>\n",
       "      <td>A</td>\n",
       "      <td>B</td>\n",
       "      <td>D</td>\n",
       "    </tr>\n",
       "    <tr>\n",
       "      <th>1</th>\n",
       "      <td>2</td>\n",
       "      <td>2c3acac4b33ec2b195d77e7c04a2d75727fad723</td>\n",
       "      <td>2016</td>\n",
       "      <td>2304707</td>\n",
       "      <td>Granja</td>\n",
       "      <td>23</td>\n",
       "      <td>CE</td>\n",
       "      <td>17</td>\n",
       "      <td>F</td>\n",
       "      <td>0.0</td>\n",
       "      <td>...</td>\n",
       "      <td>NaN</td>\n",
       "      <td>A</td>\n",
       "      <td>A</td>\n",
       "      <td>C</td>\n",
       "      <td>A</td>\n",
       "      <td>B</td>\n",
       "      <td>A</td>\n",
       "      <td>A</td>\n",
       "      <td>C</td>\n",
       "      <td>A</td>\n",
       "    </tr>\n",
       "    <tr>\n",
       "      <th>2</th>\n",
       "      <td>3</td>\n",
       "      <td>f4545f8ccb9ff5c8aad7d32951b3f251a26e6568</td>\n",
       "      <td>2016</td>\n",
       "      <td>2304400</td>\n",
       "      <td>Fortaleza</td>\n",
       "      <td>23</td>\n",
       "      <td>CE</td>\n",
       "      <td>21</td>\n",
       "      <td>F</td>\n",
       "      <td>0.0</td>\n",
       "      <td>...</td>\n",
       "      <td>NaN</td>\n",
       "      <td>A</td>\n",
       "      <td>A</td>\n",
       "      <td>A</td>\n",
       "      <td>A</td>\n",
       "      <td>C</td>\n",
       "      <td>A</td>\n",
       "      <td>A</td>\n",
       "      <td>B</td>\n",
       "      <td>A</td>\n",
       "    </tr>\n",
       "    <tr>\n",
       "      <th>3</th>\n",
       "      <td>4</td>\n",
       "      <td>3d6ec248fef899c414e77f82d5c6d2bffbeaf7fe</td>\n",
       "      <td>2016</td>\n",
       "      <td>3304557</td>\n",
       "      <td>Rio de Janeiro</td>\n",
       "      <td>33</td>\n",
       "      <td>RJ</td>\n",
       "      <td>25</td>\n",
       "      <td>F</td>\n",
       "      <td>0.0</td>\n",
       "      <td>...</td>\n",
       "      <td>5.0</td>\n",
       "      <td>C</td>\n",
       "      <td>A</td>\n",
       "      <td>A</td>\n",
       "      <td>A</td>\n",
       "      <td>A</td>\n",
       "      <td>D</td>\n",
       "      <td>A</td>\n",
       "      <td>A</td>\n",
       "      <td>A</td>\n",
       "    </tr>\n",
       "    <tr>\n",
       "      <th>4</th>\n",
       "      <td>5</td>\n",
       "      <td>bf896ac8d3ecadd6dba1dfbf50110afcbf5d3268</td>\n",
       "      <td>2016</td>\n",
       "      <td>1302603</td>\n",
       "      <td>Manaus</td>\n",
       "      <td>13</td>\n",
       "      <td>AM</td>\n",
       "      <td>28</td>\n",
       "      <td>M</td>\n",
       "      <td>0.0</td>\n",
       "      <td>...</td>\n",
       "      <td>NaN</td>\n",
       "      <td>A</td>\n",
       "      <td>A</td>\n",
       "      <td>A</td>\n",
       "      <td>A</td>\n",
       "      <td>A</td>\n",
       "      <td>A</td>\n",
       "      <td>A</td>\n",
       "      <td>A</td>\n",
       "      <td>A</td>\n",
       "    </tr>\n",
       "  </tbody>\n",
       "</table>\n",
       "<p>5 rows × 167 columns</p>\n",
       "</div>"
      ],
      "text/plain": [
       "   Unnamed: 0                              NU_INSCRICAO  NU_ANO  \\\n",
       "0           1  ed50e8aaa58e7a806c337585efee9ca41f1eb1ad    2016   \n",
       "1           2  2c3acac4b33ec2b195d77e7c04a2d75727fad723    2016   \n",
       "2           3  f4545f8ccb9ff5c8aad7d32951b3f251a26e6568    2016   \n",
       "3           4  3d6ec248fef899c414e77f82d5c6d2bffbeaf7fe    2016   \n",
       "4           5  bf896ac8d3ecadd6dba1dfbf50110afcbf5d3268    2016   \n",
       "\n",
       "   CO_MUNICIPIO_RESIDENCIA NO_MUNICIPIO_RESIDENCIA  CO_UF_RESIDENCIA  \\\n",
       "0                  4314902            Porto Alegre                43   \n",
       "1                  2304707                  Granja                23   \n",
       "2                  2304400               Fortaleza                23   \n",
       "3                  3304557          Rio de Janeiro                33   \n",
       "4                  1302603                  Manaus                13   \n",
       "\n",
       "  SG_UF_RESIDENCIA  NU_IDADE TP_SEXO  TP_ESTADO_CIVIL  ...  Q041  Q042  Q043  \\\n",
       "0               RS        24       M              0.0  ...   5.0     A     A   \n",
       "1               CE        17       F              0.0  ...   NaN     A     A   \n",
       "2               CE        21       F              0.0  ...   NaN     A     A   \n",
       "3               RJ        25       F              0.0  ...   5.0     C     A   \n",
       "4               AM        28       M              0.0  ...   NaN     A     A   \n",
       "\n",
       "  Q044  Q045 Q046  Q047  Q048  Q049  Q050  \n",
       "0    A     A    A     A     A     B     D  \n",
       "1    C     A    B     A     A     C     A  \n",
       "2    A     A    C     A     A     B     A  \n",
       "3    A     A    A     D     A     A     A  \n",
       "4    A     A    A     A     A     A     A  \n",
       "\n",
       "[5 rows x 167 columns]"
      ]
     },
     "execution_count": 273,
     "metadata": {},
     "output_type": "execute_result"
    }
   ],
   "source": [
    "df.head()\n"
   ]
  },
  {
   "cell_type": "code",
   "execution_count": 274,
   "metadata": {},
   "outputs": [
    {
     "data": {
      "text/plain": [
       "(13730, 167)"
      ]
     },
     "execution_count": 274,
     "metadata": {},
     "output_type": "execute_result"
    }
   ],
   "source": [
    "df.shape"
   ]
  },
  {
   "cell_type": "code",
   "execution_count": 275,
   "metadata": {},
   "outputs": [
    {
     "name": "stdout",
     "output_type": "stream",
     "text": [
      "<class 'pandas.core.frame.DataFrame'>\n",
      "RangeIndex: 13730 entries, 0 to 13729\n",
      "Data columns (total 167 columns):\n",
      " #   Column                       Dtype  \n",
      "---  ------                       -----  \n",
      " 0   Unnamed: 0                   int64  \n",
      " 1   NU_INSCRICAO                 object \n",
      " 2   NU_ANO                       int64  \n",
      " 3   CO_MUNICIPIO_RESIDENCIA      int64  \n",
      " 4   NO_MUNICIPIO_RESIDENCIA      object \n",
      " 5   CO_UF_RESIDENCIA             int64  \n",
      " 6   SG_UF_RESIDENCIA             object \n",
      " 7   NU_IDADE                     int64  \n",
      " 8   TP_SEXO                      object \n",
      " 9   TP_ESTADO_CIVIL              float64\n",
      " 10  TP_COR_RACA                  int64  \n",
      " 11  TP_NACIONALIDADE             int64  \n",
      " 12  CO_MUNICIPIO_NASCIMENTO      float64\n",
      " 13  NO_MUNICIPIO_NASCIMENTO      object \n",
      " 14  CO_UF_NASCIMENTO             float64\n",
      " 15  SG_UF_NASCIMENTO             object \n",
      " 16  TP_ST_CONCLUSAO              int64  \n",
      " 17  TP_ANO_CONCLUIU              int64  \n",
      " 18  TP_ESCOLA                    int64  \n",
      " 19  TP_ENSINO                    float64\n",
      " 20  IN_TREINEIRO                 int64  \n",
      " 21  CO_ESCOLA                    float64\n",
      " 22  CO_MUNICIPIO_ESC             float64\n",
      " 23  NO_MUNICIPIO_ESC             object \n",
      " 24  CO_UF_ESC                    float64\n",
      " 25  SG_UF_ESC                    object \n",
      " 26  TP_DEPENDENCIA_ADM_ESC       float64\n",
      " 27  TP_LOCALIZACAO_ESC           float64\n",
      " 28  TP_SIT_FUNC_ESC              float64\n",
      " 29  IN_BAIXA_VISAO               int64  \n",
      " 30  IN_CEGUEIRA                  int64  \n",
      " 31  IN_SURDEZ                    int64  \n",
      " 32  IN_DEFICIENCIA_AUDITIVA      int64  \n",
      " 33  IN_SURDO_CEGUEIRA            int64  \n",
      " 34  IN_DEFICIENCIA_FISICA        int64  \n",
      " 35  IN_DEFICIENCIA_MENTAL        int64  \n",
      " 36  IN_DEFICIT_ATENCAO           int64  \n",
      " 37  IN_DISLEXIA                  int64  \n",
      " 38  IN_DISCALCULIA               int64  \n",
      " 39  IN_AUTISMO                   int64  \n",
      " 40  IN_VISAO_MONOCULAR           int64  \n",
      " 41  IN_OUTRA_DEF                 int64  \n",
      " 42  IN_SABATISTA                 int64  \n",
      " 43  IN_GESTANTE                  int64  \n",
      " 44  IN_LACTANTE                  int64  \n",
      " 45  IN_IDOSO                     int64  \n",
      " 46  IN_ESTUDA_CLASSE_HOSPITALAR  int64  \n",
      " 47  IN_SEM_RECURSO               int64  \n",
      " 48  IN_BRAILLE                   int64  \n",
      " 49  IN_AMPLIADA_24               int64  \n",
      " 50  IN_AMPLIADA_18               int64  \n",
      " 51  IN_LEDOR                     int64  \n",
      " 52  IN_ACESSO                    int64  \n",
      " 53  IN_TRANSCRICAO               int64  \n",
      " 54  IN_LIBRAS                    int64  \n",
      " 55  IN_LEITURA_LABIAL            int64  \n",
      " 56  IN_MESA_CADEIRA_RODAS        int64  \n",
      " 57  IN_MESA_CADEIRA_SEPARADA     int64  \n",
      " 58  IN_APOIO_PERNA               int64  \n",
      " 59  IN_GUIA_INTERPRETE           int64  \n",
      " 60  IN_MACA                      int64  \n",
      " 61  IN_COMPUTADOR                int64  \n",
      " 62  IN_CADEIRA_ESPECIAL          int64  \n",
      " 63  IN_CADEIRA_CANHOTO           int64  \n",
      " 64  IN_CADEIRA_ACOLCHOADA        int64  \n",
      " 65  IN_PROVA_DEITADO             int64  \n",
      " 66  IN_MOBILIARIO_OBESO          int64  \n",
      " 67  IN_LAMINA_OVERLAY            int64  \n",
      " 68  IN_PROTETOR_AURICULAR        int64  \n",
      " 69  IN_MEDIDOR_GLICOSE           int64  \n",
      " 70  IN_MAQUINA_BRAILE            int64  \n",
      " 71  IN_SOROBAN                   int64  \n",
      " 72  IN_MARCA_PASSO               int64  \n",
      " 73  IN_SONDA                     int64  \n",
      " 74  IN_MEDICAMENTOS              int64  \n",
      " 75  IN_SALA_INDIVIDUAL           int64  \n",
      " 76  IN_SALA_ESPECIAL             int64  \n",
      " 77  IN_SALA_ACOMPANHANTE         int64  \n",
      " 78  IN_MOBILIARIO_ESPECIFICO     int64  \n",
      " 79  IN_MATERIAL_ESPECIFICO       int64  \n",
      " 80  IN_NOME_SOCIAL               int64  \n",
      " 81  IN_CERTIFICADO               int64  \n",
      " 82  NO_ENTIDADE_CERTIFICACAO     object \n",
      " 83  CO_UF_ENTIDADE_CERTIFICACAO  float64\n",
      " 84  SG_UF_ENTIDADE_CERTIFICACAO  object \n",
      " 85  CO_MUNICIPIO_PROVA           int64  \n",
      " 86  NO_MUNICIPIO_PROVA           object \n",
      " 87  CO_UF_PROVA                  int64  \n",
      " 88  SG_UF_PROVA                  object \n",
      " 89  TP_PRESENCA_CN               int64  \n",
      " 90  TP_PRESENCA_CH               int64  \n",
      " 91  TP_PRESENCA_LC               int64  \n",
      " 92  TP_PRESENCA_MT               int64  \n",
      " 93  CO_PROVA_CN                  object \n",
      " 94  CO_PROVA_CH                  object \n",
      " 95  CO_PROVA_LC                  object \n",
      " 96  CO_PROVA_MT                  object \n",
      " 97  NU_NOTA_CN                   float64\n",
      " 98  NU_NOTA_CH                   float64\n",
      " 99  NU_NOTA_LC                   float64\n",
      " 100 NU_NOTA_MT                   float64\n",
      " 101 TX_RESPOSTAS_CN              object \n",
      " 102 TX_RESPOSTAS_CH              object \n",
      " 103 TX_RESPOSTAS_LC              object \n",
      " 104 TX_RESPOSTAS_MT              object \n",
      " 105 TP_LINGUA                    int64  \n",
      " 106 TX_GABARITO_CN               object \n",
      " 107 TX_GABARITO_CH               object \n",
      " 108 TX_GABARITO_LC               object \n",
      " 109 TX_GABARITO_MT               object \n",
      " 110 TP_STATUS_REDACAO            float64\n",
      " 111 NU_NOTA_COMP1                float64\n",
      " 112 NU_NOTA_COMP2                float64\n",
      " 113 NU_NOTA_COMP3                float64\n",
      " 114 NU_NOTA_COMP4                float64\n",
      " 115 NU_NOTA_COMP5                float64\n",
      " 116 NU_NOTA_REDACAO              float64\n",
      " 117 Q001                         object \n",
      " 118 Q002                         object \n",
      " 119 Q003                         object \n",
      " 120 Q004                         object \n",
      " 121 Q005                         int64  \n",
      " 122 Q006                         object \n",
      " 123 Q007                         object \n",
      " 124 Q008                         object \n",
      " 125 Q009                         object \n",
      " 126 Q010                         object \n",
      " 127 Q011                         object \n",
      " 128 Q012                         object \n",
      " 129 Q013                         object \n",
      " 130 Q014                         object \n",
      " 131 Q015                         object \n",
      " 132 Q016                         object \n",
      " 133 Q017                         object \n",
      " 134 Q018                         object \n",
      " 135 Q019                         object \n",
      " 136 Q020                         object \n",
      " 137 Q021                         object \n",
      " 138 Q022                         object \n",
      " 139 Q023                         object \n",
      " 140 Q024                         object \n",
      " 141 Q025                         object \n",
      " 142 Q026                         object \n",
      " 143 Q027                         object \n",
      " 144 Q028                         object \n",
      " 145 Q029                         float64\n",
      " 146 Q030                         float64\n",
      " 147 Q031                         float64\n",
      " 148 Q032                         float64\n",
      " 149 Q033                         float64\n",
      " 150 Q034                         int64  \n",
      " 151 Q035                         int64  \n",
      " 152 Q036                         int64  \n",
      " 153 Q037                         int64  \n",
      " 154 Q038                         int64  \n",
      " 155 Q039                         int64  \n",
      " 156 Q040                         int64  \n",
      " 157 Q041                         float64\n",
      " 158 Q042                         object \n",
      " 159 Q043                         object \n",
      " 160 Q044                         object \n",
      " 161 Q045                         object \n",
      " 162 Q046                         object \n",
      " 163 Q047                         object \n",
      " 164 Q048                         object \n",
      " 165 Q049                         object \n",
      " 166 Q050                         object \n",
      "dtypes: float64(28), int64(79), object(60)\n",
      "memory usage: 17.5+ MB\n"
     ]
    }
   ],
   "source": [
    "df.info(verbose=True)"
   ]
  },
  {
   "cell_type": "code",
   "execution_count": 352,
   "metadata": {},
   "outputs": [],
   "source": [
    "df_notas_X = df[['NU_NOTA_CN','NU_NOTA_CH','NU_NOTA_LC','NU_NOTA_REDACAO']]"
   ]
  },
  {
   "cell_type": "code",
   "execution_count": 353,
   "metadata": {},
   "outputs": [],
   "source": [
    "df_notas_Y = df[['NU_NOTA_MT']]"
   ]
  },
  {
   "cell_type": "code",
   "execution_count": 354,
   "metadata": {},
   "outputs": [
    {
     "name": "stderr",
     "output_type": "stream",
     "text": [
      "C:\\ProgramData\\Anaconda3\\lib\\site-packages\\pandas\\core\\frame.py:4153: SettingWithCopyWarning: \n",
      "A value is trying to be set on a copy of a slice from a DataFrame\n",
      "\n",
      "See the caveats in the documentation: https://pandas.pydata.org/pandas-docs/stable/user_guide/indexing.html#returning-a-view-versus-a-copy\n",
      "  downcast=downcast,\n"
     ]
    }
   ],
   "source": [
    "df_notas_X.fillna(0,inplace=True)"
   ]
  },
  {
   "cell_type": "code",
   "execution_count": 355,
   "metadata": {},
   "outputs": [
    {
     "data": {
      "text/html": [
       "<div>\n",
       "<style scoped>\n",
       "    .dataframe tbody tr th:only-of-type {\n",
       "        vertical-align: middle;\n",
       "    }\n",
       "\n",
       "    .dataframe tbody tr th {\n",
       "        vertical-align: top;\n",
       "    }\n",
       "\n",
       "    .dataframe thead th {\n",
       "        text-align: right;\n",
       "    }\n",
       "</style>\n",
       "<table border=\"1\" class=\"dataframe\">\n",
       "  <thead>\n",
       "    <tr style=\"text-align: right;\">\n",
       "      <th></th>\n",
       "      <th>NU_NOTA_CN</th>\n",
       "      <th>NU_NOTA_CH</th>\n",
       "      <th>NU_NOTA_LC</th>\n",
       "      <th>NU_NOTA_REDACAO</th>\n",
       "    </tr>\n",
       "  </thead>\n",
       "  <tbody>\n",
       "    <tr>\n",
       "      <th>0</th>\n",
       "      <td>436.3</td>\n",
       "      <td>495.4</td>\n",
       "      <td>581.2</td>\n",
       "      <td>520.0</td>\n",
       "    </tr>\n",
       "    <tr>\n",
       "      <th>1</th>\n",
       "      <td>474.5</td>\n",
       "      <td>544.1</td>\n",
       "      <td>599.0</td>\n",
       "      <td>580.0</td>\n",
       "    </tr>\n",
       "    <tr>\n",
       "      <th>2</th>\n",
       "      <td>0.0</td>\n",
       "      <td>0.0</td>\n",
       "      <td>0.0</td>\n",
       "      <td>0.0</td>\n",
       "    </tr>\n",
       "    <tr>\n",
       "      <th>3</th>\n",
       "      <td>0.0</td>\n",
       "      <td>0.0</td>\n",
       "      <td>0.0</td>\n",
       "      <td>0.0</td>\n",
       "    </tr>\n",
       "    <tr>\n",
       "      <th>4</th>\n",
       "      <td>0.0</td>\n",
       "      <td>0.0</td>\n",
       "      <td>0.0</td>\n",
       "      <td>0.0</td>\n",
       "    </tr>\n",
       "    <tr>\n",
       "      <th>...</th>\n",
       "      <td>...</td>\n",
       "      <td>...</td>\n",
       "      <td>...</td>\n",
       "      <td>...</td>\n",
       "    </tr>\n",
       "    <tr>\n",
       "      <th>13725</th>\n",
       "      <td>438.2</td>\n",
       "      <td>419.7</td>\n",
       "      <td>394.5</td>\n",
       "      <td>440.0</td>\n",
       "    </tr>\n",
       "    <tr>\n",
       "      <th>13726</th>\n",
       "      <td>423.8</td>\n",
       "      <td>557.9</td>\n",
       "      <td>533.0</td>\n",
       "      <td>560.0</td>\n",
       "    </tr>\n",
       "    <tr>\n",
       "      <th>13727</th>\n",
       "      <td>460.5</td>\n",
       "      <td>528.9</td>\n",
       "      <td>569.3</td>\n",
       "      <td>600.0</td>\n",
       "    </tr>\n",
       "    <tr>\n",
       "      <th>13728</th>\n",
       "      <td>422.5</td>\n",
       "      <td>621.7</td>\n",
       "      <td>569.0</td>\n",
       "      <td>460.0</td>\n",
       "    </tr>\n",
       "    <tr>\n",
       "      <th>13729</th>\n",
       "      <td>488.7</td>\n",
       "      <td>575.3</td>\n",
       "      <td>565.9</td>\n",
       "      <td>520.0</td>\n",
       "    </tr>\n",
       "  </tbody>\n",
       "</table>\n",
       "<p>13730 rows × 4 columns</p>\n",
       "</div>"
      ],
      "text/plain": [
       "       NU_NOTA_CN  NU_NOTA_CH  NU_NOTA_LC  NU_NOTA_REDACAO\n",
       "0           436.3       495.4       581.2            520.0\n",
       "1           474.5       544.1       599.0            580.0\n",
       "2             0.0         0.0         0.0              0.0\n",
       "3             0.0         0.0         0.0              0.0\n",
       "4             0.0         0.0         0.0              0.0\n",
       "...           ...         ...         ...              ...\n",
       "13725       438.2       419.7       394.5            440.0\n",
       "13726       423.8       557.9       533.0            560.0\n",
       "13727       460.5       528.9       569.3            600.0\n",
       "13728       422.5       621.7       569.0            460.0\n",
       "13729       488.7       575.3       565.9            520.0\n",
       "\n",
       "[13730 rows x 4 columns]"
      ]
     },
     "execution_count": 355,
     "metadata": {},
     "output_type": "execute_result"
    }
   ],
   "source": [
    "df_notas_X"
   ]
  },
  {
   "cell_type": "code",
   "execution_count": 356,
   "metadata": {},
   "outputs": [
    {
     "name": "stderr",
     "output_type": "stream",
     "text": [
      "C:\\ProgramData\\Anaconda3\\lib\\site-packages\\pandas\\core\\frame.py:4153: SettingWithCopyWarning: \n",
      "A value is trying to be set on a copy of a slice from a DataFrame\n",
      "\n",
      "See the caveats in the documentation: https://pandas.pydata.org/pandas-docs/stable/user_guide/indexing.html#returning-a-view-versus-a-copy\n",
      "  downcast=downcast,\n"
     ]
    }
   ],
   "source": [
    "df_notas_Y.fillna(0,inplace=True)"
   ]
  },
  {
   "cell_type": "code",
   "execution_count": 357,
   "metadata": {},
   "outputs": [
    {
     "data": {
      "text/html": [
       "<div>\n",
       "<style scoped>\n",
       "    .dataframe tbody tr th:only-of-type {\n",
       "        vertical-align: middle;\n",
       "    }\n",
       "\n",
       "    .dataframe tbody tr th {\n",
       "        vertical-align: top;\n",
       "    }\n",
       "\n",
       "    .dataframe thead th {\n",
       "        text-align: right;\n",
       "    }\n",
       "</style>\n",
       "<table border=\"1\" class=\"dataframe\">\n",
       "  <thead>\n",
       "    <tr style=\"text-align: right;\">\n",
       "      <th></th>\n",
       "      <th>NU_NOTA_MT</th>\n",
       "    </tr>\n",
       "  </thead>\n",
       "  <tbody>\n",
       "    <tr>\n",
       "      <th>0</th>\n",
       "      <td>399.4</td>\n",
       "    </tr>\n",
       "    <tr>\n",
       "      <th>1</th>\n",
       "      <td>459.8</td>\n",
       "    </tr>\n",
       "    <tr>\n",
       "      <th>2</th>\n",
       "      <td>0.0</td>\n",
       "    </tr>\n",
       "    <tr>\n",
       "      <th>3</th>\n",
       "      <td>0.0</td>\n",
       "    </tr>\n",
       "    <tr>\n",
       "      <th>4</th>\n",
       "      <td>0.0</td>\n",
       "    </tr>\n",
       "    <tr>\n",
       "      <th>...</th>\n",
       "      <td>...</td>\n",
       "    </tr>\n",
       "    <tr>\n",
       "      <th>13725</th>\n",
       "      <td>403.2</td>\n",
       "    </tr>\n",
       "    <tr>\n",
       "      <th>13726</th>\n",
       "      <td>452.4</td>\n",
       "    </tr>\n",
       "    <tr>\n",
       "      <th>13727</th>\n",
       "      <td>398.0</td>\n",
       "    </tr>\n",
       "    <tr>\n",
       "      <th>13728</th>\n",
       "      <td>386.6</td>\n",
       "    </tr>\n",
       "    <tr>\n",
       "      <th>13729</th>\n",
       "      <td>428.9</td>\n",
       "    </tr>\n",
       "  </tbody>\n",
       "</table>\n",
       "<p>13730 rows × 1 columns</p>\n",
       "</div>"
      ],
      "text/plain": [
       "       NU_NOTA_MT\n",
       "0           399.4\n",
       "1           459.8\n",
       "2             0.0\n",
       "3             0.0\n",
       "4             0.0\n",
       "...           ...\n",
       "13725       403.2\n",
       "13726       452.4\n",
       "13727       398.0\n",
       "13728       386.6\n",
       "13729       428.9\n",
       "\n",
       "[13730 rows x 1 columns]"
      ]
     },
     "execution_count": 357,
     "metadata": {},
     "output_type": "execute_result"
    }
   ],
   "source": [
    "df_notas_Y"
   ]
  },
  {
   "cell_type": "code",
   "execution_count": 358,
   "metadata": {},
   "outputs": [],
   "source": [
    "#Criar ambiente de treino\n",
    "X_train, X_test, Y_train, Y_test = train_test_split(df_notas_X,df_notas_Y,test_size=0.33,random_state=5)"
   ]
  },
  {
   "cell_type": "code",
   "execution_count": 359,
   "metadata": {},
   "outputs": [
    {
     "data": {
      "text/plain": [
       "((9199, 4), (9199, 1), (4531, 4), (4531, 1))"
      ]
     },
     "execution_count": 359,
     "metadata": {},
     "output_type": "execute_result"
    }
   ],
   "source": [
    "X_train.shape, Y_train.shape, X_test.shape, Y_test.shape"
   ]
  },
  {
   "cell_type": "code",
   "execution_count": 360,
   "metadata": {},
   "outputs": [],
   "source": [
    "lm = LinearRegression()"
   ]
  },
  {
   "cell_type": "code",
   "execution_count": 361,
   "metadata": {},
   "outputs": [
    {
     "data": {
      "text/plain": [
       "LinearRegression(copy_X=True, fit_intercept=True, n_jobs=None, normalize=False)"
      ]
     },
     "execution_count": 361,
     "metadata": {},
     "output_type": "execute_result"
    }
   ],
   "source": [
    "lm.fit(X_train,Y_train)"
   ]
  },
  {
   "cell_type": "code",
   "execution_count": 362,
   "metadata": {},
   "outputs": [
    {
     "data": {
      "text/plain": [
       "array([-2.78515104])"
      ]
     },
     "execution_count": 362,
     "metadata": {},
     "output_type": "execute_result"
    }
   ],
   "source": [
    "lm.intercept_"
   ]
  },
  {
   "cell_type": "code",
   "execution_count": 363,
   "metadata": {},
   "outputs": [
    {
     "data": {
      "text/plain": [
       "array([[ 0.34826213, -0.11449997,  0.65279276,  0.08076938]])"
      ]
     },
     "execution_count": 363,
     "metadata": {},
     "output_type": "execute_result"
    }
   ],
   "source": [
    "lm.coef_"
   ]
  },
  {
   "cell_type": "code",
   "execution_count": 364,
   "metadata": {},
   "outputs": [
    {
     "data": {
      "text/plain": [
       "0.9005962959126597"
      ]
     },
     "execution_count": 364,
     "metadata": {},
     "output_type": "execute_result"
    }
   ],
   "source": [
    "lm.score(X_train,Y_train)"
   ]
  },
  {
   "cell_type": "code",
   "execution_count": 365,
   "metadata": {},
   "outputs": [
    {
     "data": {
      "text/plain": [
       "0.9068158399724845"
      ]
     },
     "execution_count": 365,
     "metadata": {},
     "output_type": "execute_result"
    }
   ],
   "source": [
    "lm.fit(X_test,Y_test)\n",
    "lm.score(X_test,Y_test)"
   ]
  },
  {
   "cell_type": "code",
   "execution_count": 366,
   "metadata": {},
   "outputs": [
    {
     "name": "stdout",
     "output_type": "stream",
     "text": [
      "NU_NOTA_MT    5192.490761\n",
      "dtype: float64\n"
     ]
    }
   ],
   "source": [
    "print(np.mean((Y_train-lm.predict(X_train))**2))"
   ]
  },
  {
   "cell_type": "code",
   "execution_count": 367,
   "metadata": {},
   "outputs": [],
   "source": [
    "pred_train = lm.predict(X_train)\n",
    "pred_test = lm.predict(X_test)"
   ]
  },
  {
   "cell_type": "code",
   "execution_count": 368,
   "metadata": {},
   "outputs": [
    {
     "data": {
      "text/plain": [
       "array([[506.12148194],\n",
       "       [ -2.86408195],\n",
       "       [ -2.86408195],\n",
       "       ...,\n",
       "       [ -2.86408195],\n",
       "       [428.22651608],\n",
       "       [516.84273303]])"
      ]
     },
     "execution_count": 368,
     "metadata": {},
     "output_type": "execute_result"
    }
   ],
   "source": [
    "pred_train"
   ]
  },
  {
   "cell_type": "code",
   "execution_count": 369,
   "metadata": {},
   "outputs": [
    {
     "data": {
      "text/plain": [
       "array([[ -2.86408195],\n",
       "       [475.97608203],\n",
       "       [552.02004704],\n",
       "       ...,\n",
       "       [399.60263063],\n",
       "       [410.1140177 ],\n",
       "       [497.93078849]])"
      ]
     },
     "execution_count": 369,
     "metadata": {},
     "output_type": "execute_result"
    }
   ],
   "source": [
    "pred_test"
   ]
  },
  {
   "cell_type": "code",
   "execution_count": 370,
   "metadata": {},
   "outputs": [
    {
     "name": "stdout",
     "output_type": "stream",
     "text": [
      "NU_NOTA_MT    5192.490761\n",
      "dtype: float64\n"
     ]
    }
   ],
   "source": [
    "print(np.mean((Y_train-lm.predict(X_train))**2))"
   ]
  },
  {
   "cell_type": "code",
   "execution_count": 371,
   "metadata": {},
   "outputs": [
    {
     "name": "stdout",
     "output_type": "stream",
     "text": [
      "NU_NOTA_MT    4913.458062\n",
      "dtype: float64\n"
     ]
    }
   ],
   "source": [
    "print(np.mean((Y_test-lm.predict(X_test))**2))"
   ]
  },
  {
   "cell_type": "code",
   "execution_count": 372,
   "metadata": {},
   "outputs": [
    {
     "data": {
      "text/plain": [
       "Text(0, 0.5, 'Residuals')"
      ]
     },
     "execution_count": 372,
     "metadata": {},
     "output_type": "execute_result"
    },
    {
     "data": {
      "image/png": "[encoded data removed]",
      "text/plain": [
       "<Figure size 432x288 with 1 Axes>"
      ]
     },
     "metadata": {
      "needs_background": "light"
     },
     "output_type": "display_data"
    }
   ],
   "source": [
    "plt.scatter(lm.predict(X_train),lm.predict(X_train) - Y_train,c=\"b\",s=40,alpha=0.5)\n",
    "plt.scatter(lm.predict(X_test),lm.predict(X_test) - Y_test,c=\"g\",s=40)\n",
    "plt.hlines(y=0,xmin=0, xmax=0)\n",
    "plt.ylabel('Residuals')"
   ]
  },
  {
   "cell_type": "code",
   "execution_count": 373,
   "metadata": {},
   "outputs": [],
   "source": [
    "df_test = pd.read_csv('test.csv')"
   ]
  },
  {
   "cell_type": "code",
   "execution_count": 374,
   "metadata": {},
   "outputs": [
    {
     "name": "stdout",
     "output_type": "stream",
     "text": [
      "<class 'pandas.core.frame.DataFrame'>\n",
      "RangeIndex: 4576 entries, 0 to 4575\n",
      "Data columns (total 47 columns):\n",
      " #   Column                  Non-Null Count  Dtype  \n",
      "---  ------                  --------------  -----  \n",
      " 0   NU_INSCRICAO            4576 non-null   object \n",
      " 1   CO_UF_RESIDENCIA        4576 non-null   int64  \n",
      " 2   SG_UF_RESIDENCIA        4576 non-null   object \n",
      " 3   NU_IDADE                4576 non-null   int64  \n",
      " 4   TP_SEXO                 4576 non-null   object \n",
      " 5   TP_COR_RACA             4576 non-null   int64  \n",
      " 6   TP_NACIONALIDADE        4576 non-null   int64  \n",
      " 7   TP_ST_CONCLUSAO         4576 non-null   int64  \n",
      " 8   TP_ANO_CONCLUIU         4576 non-null   int64  \n",
      " 9   TP_ESCOLA               4576 non-null   int64  \n",
      " 10  TP_ENSINO               1480 non-null   float64\n",
      " 11  IN_TREINEIRO            4576 non-null   int64  \n",
      " 12  TP_DEPENDENCIA_ADM_ESC  1480 non-null   float64\n",
      " 13  IN_BAIXA_VISAO          4576 non-null   int64  \n",
      " 14  IN_CEGUEIRA             4576 non-null   int64  \n",
      " 15  IN_SURDEZ               4576 non-null   int64  \n",
      " 16  IN_DISLEXIA             4576 non-null   int64  \n",
      " 17  IN_DISCALCULIA          4576 non-null   int64  \n",
      " 18  IN_SABATISTA            4576 non-null   int64  \n",
      " 19  IN_GESTANTE             4576 non-null   int64  \n",
      " 20  IN_IDOSO                4576 non-null   int64  \n",
      " 21  TP_PRESENCA_CN          4576 non-null   int64  \n",
      " 22  TP_PRESENCA_CH          4576 non-null   int64  \n",
      " 23  TP_PRESENCA_LC          4576 non-null   int64  \n",
      " 24  CO_PROVA_CN             4576 non-null   object \n",
      " 25  CO_PROVA_CH             4576 non-null   object \n",
      " 26  CO_PROVA_LC             4576 non-null   object \n",
      " 27  CO_PROVA_MT             4576 non-null   object \n",
      " 28  NU_NOTA_CN              3442 non-null   float64\n",
      " 29  NU_NOTA_CH              3442 non-null   float64\n",
      " 30  NU_NOTA_LC              3377 non-null   float64\n",
      " 31  TP_LINGUA               4576 non-null   int64  \n",
      " 32  TP_STATUS_REDACAO       3377 non-null   float64\n",
      " 33  NU_NOTA_COMP1           3377 non-null   float64\n",
      " 34  NU_NOTA_COMP2           3377 non-null   float64\n",
      " 35  NU_NOTA_COMP3           3377 non-null   float64\n",
      " 36  NU_NOTA_COMP4           3377 non-null   float64\n",
      " 37  NU_NOTA_COMP5           3377 non-null   float64\n",
      " 38  NU_NOTA_REDACAO         3377 non-null   float64\n",
      " 39  Q001                    4576 non-null   object \n",
      " 40  Q002                    4576 non-null   object \n",
      " 41  Q006                    4576 non-null   object \n",
      " 42  Q024                    4576 non-null   object \n",
      " 43  Q025                    4576 non-null   object \n",
      " 44  Q026                    4576 non-null   object \n",
      " 45  Q027                    2088 non-null   object \n",
      " 46  Q047                    4576 non-null   object \n",
      "dtypes: float64(12), int64(20), object(15)\n",
      "memory usage: 1.6+ MB\n"
     ]
    }
   ],
   "source": [
    "df_test.info()"
   ]
  },
  {
   "cell_type": "code",
   "execution_count": 375,
   "metadata": {},
   "outputs": [],
   "source": [
    "df_col_test = df_test[['NU_NOTA_CN','NU_NOTA_CH','NU_NOTA_LC','NU_NOTA_REDACAO']]"
   ]
  },
  {
   "cell_type": "code",
   "execution_count": 376,
   "metadata": {},
   "outputs": [
    {
     "name": "stderr",
     "output_type": "stream",
     "text": [
      "C:\\ProgramData\\Anaconda3\\lib\\site-packages\\pandas\\core\\frame.py:4153: SettingWithCopyWarning: \n",
      "A value is trying to be set on a copy of a slice from a DataFrame\n",
      "\n",
      "See the caveats in the documentation: https://pandas.pydata.org/pandas-docs/stable/user_guide/indexing.html#returning-a-view-versus-a-copy\n",
      "  downcast=downcast,\n"
     ]
    }
   ],
   "source": [
    "df_col_test.fillna(0,inplace=True)"
   ]
  },
  {
   "cell_type": "code",
   "execution_count": 377,
   "metadata": {},
   "outputs": [
    {
     "data": {
      "text/html": [
       "<div>\n",
       "<style scoped>\n",
       "    .dataframe tbody tr th:only-of-type {\n",
       "        vertical-align: middle;\n",
       "    }\n",
       "\n",
       "    .dataframe tbody tr th {\n",
       "        vertical-align: top;\n",
       "    }\n",
       "\n",
       "    .dataframe thead th {\n",
       "        text-align: right;\n",
       "    }\n",
       "</style>\n",
       "<table border=\"1\" class=\"dataframe\">\n",
       "  <thead>\n",
       "    <tr style=\"text-align: right;\">\n",
       "      <th></th>\n",
       "      <th>NU_NOTA_CN</th>\n",
       "      <th>NU_NOTA_CH</th>\n",
       "      <th>NU_NOTA_LC</th>\n",
       "      <th>NU_NOTA_REDACAO</th>\n",
       "    </tr>\n",
       "  </thead>\n",
       "  <tbody>\n",
       "    <tr>\n",
       "      <th>0</th>\n",
       "      <td>464.8</td>\n",
       "      <td>443.5</td>\n",
       "      <td>431.8</td>\n",
       "      <td>420.0</td>\n",
       "    </tr>\n",
       "    <tr>\n",
       "      <th>1</th>\n",
       "      <td>391.1</td>\n",
       "      <td>491.1</td>\n",
       "      <td>548.0</td>\n",
       "      <td>580.0</td>\n",
       "    </tr>\n",
       "    <tr>\n",
       "      <th>2</th>\n",
       "      <td>595.9</td>\n",
       "      <td>622.7</td>\n",
       "      <td>613.6</td>\n",
       "      <td>320.0</td>\n",
       "    </tr>\n",
       "    <tr>\n",
       "      <th>3</th>\n",
       "      <td>0.0</td>\n",
       "      <td>0.0</td>\n",
       "      <td>0.0</td>\n",
       "      <td>0.0</td>\n",
       "    </tr>\n",
       "    <tr>\n",
       "      <th>4</th>\n",
       "      <td>592.9</td>\n",
       "      <td>492.6</td>\n",
       "      <td>571.4</td>\n",
       "      <td>320.0</td>\n",
       "    </tr>\n",
       "    <tr>\n",
       "      <th>...</th>\n",
       "      <td>...</td>\n",
       "      <td>...</td>\n",
       "      <td>...</td>\n",
       "      <td>...</td>\n",
       "    </tr>\n",
       "    <tr>\n",
       "      <th>4571</th>\n",
       "      <td>398.3</td>\n",
       "      <td>558.2</td>\n",
       "      <td>511.6</td>\n",
       "      <td>500.0</td>\n",
       "    </tr>\n",
       "    <tr>\n",
       "      <th>4572</th>\n",
       "      <td>427.6</td>\n",
       "      <td>579.7</td>\n",
       "      <td>471.1</td>\n",
       "      <td>520.0</td>\n",
       "    </tr>\n",
       "    <tr>\n",
       "      <th>4573</th>\n",
       "      <td>639.2</td>\n",
       "      <td>643.8</td>\n",
       "      <td>604.9</td>\n",
       "      <td>640.0</td>\n",
       "    </tr>\n",
       "    <tr>\n",
       "      <th>4574</th>\n",
       "      <td>427.1</td>\n",
       "      <td>467.9</td>\n",
       "      <td>540.2</td>\n",
       "      <td>520.0</td>\n",
       "    </tr>\n",
       "    <tr>\n",
       "      <th>4575</th>\n",
       "      <td>0.0</td>\n",
       "      <td>0.0</td>\n",
       "      <td>0.0</td>\n",
       "      <td>0.0</td>\n",
       "    </tr>\n",
       "  </tbody>\n",
       "</table>\n",
       "<p>4576 rows × 4 columns</p>\n",
       "</div>"
      ],
      "text/plain": [
       "      NU_NOTA_CN  NU_NOTA_CH  NU_NOTA_LC  NU_NOTA_REDACAO\n",
       "0          464.8       443.5       431.8            420.0\n",
       "1          391.1       491.1       548.0            580.0\n",
       "2          595.9       622.7       613.6            320.0\n",
       "3            0.0         0.0         0.0              0.0\n",
       "4          592.9       492.6       571.4            320.0\n",
       "...          ...         ...         ...              ...\n",
       "4571       398.3       558.2       511.6            500.0\n",
       "4572       427.6       579.7       471.1            520.0\n",
       "4573       639.2       643.8       604.9            640.0\n",
       "4574       427.1       467.9       540.2            520.0\n",
       "4575         0.0         0.0         0.0              0.0\n",
       "\n",
       "[4576 rows x 4 columns]"
      ]
     },
     "execution_count": 377,
     "metadata": {},
     "output_type": "execute_result"
    }
   ],
   "source": [
    "df_col_test"
   ]
  },
  {
   "cell_type": "code",
   "execution_count": 378,
   "metadata": {},
   "outputs": [],
   "source": [
    "pred_new_test = lm.predict(df_col_test)"
   ]
  },
  {
   "cell_type": "code",
   "execution_count": 379,
   "metadata": {},
   "outputs": [
    {
     "data": {
      "text/plain": [
       "array([[ 0.35841937, -0.15208211,  0.68303042,  0.0807067 ]])"
      ]
     },
     "execution_count": 379,
     "metadata": {},
     "output_type": "execute_result"
    }
   ],
   "source": [
    "lm.coef_"
   ]
  },
  {
   "cell_type": "code",
   "execution_count": 380,
   "metadata": {},
   "outputs": [
    {
     "data": {
      "text/plain": [
       "array([[425.11017512],\n",
       "       [483.73676644],\n",
       "       [560.95010026],\n",
       "       ...,\n",
       "       [593.14450647],\n",
       "       [489.99812937],\n",
       "       [ -2.86408195]])"
      ]
     },
     "execution_count": 380,
     "metadata": {},
     "output_type": "execute_result"
    }
   ],
   "source": [
    "pred_new_test"
   ]
  },
  {
   "cell_type": "code",
   "execution_count": 381,
   "metadata": {},
   "outputs": [],
   "source": [
    "df_test['TESTE'] = pred_new_test"
   ]
  },
  {
   "cell_type": "code",
   "execution_count": 383,
   "metadata": {},
   "outputs": [],
   "source": [
    "df_test['NU_NOTA_MT'] = pred_new_test"
   ]
  },
  {
   "cell_type": "code",
   "execution_count": 384,
   "metadata": {},
   "outputs": [
    {
     "data": {
      "text/html": [
       "<div>\n",
       "<style scoped>\n",
       "    .dataframe tbody tr th:only-of-type {\n",
       "        vertical-align: middle;\n",
       "    }\n",
       "\n",
       "    .dataframe tbody tr th {\n",
       "        vertical-align: top;\n",
       "    }\n",
       "\n",
       "    .dataframe thead th {\n",
       "        text-align: right;\n",
       "    }\n",
       "</style>\n",
       "<table border=\"1\" class=\"dataframe\">\n",
       "  <thead>\n",
       "    <tr style=\"text-align: right;\">\n",
       "      <th></th>\n",
       "      <th>NU_INSCRICAO</th>\n",
       "      <th>CO_UF_RESIDENCIA</th>\n",
       "      <th>SG_UF_RESIDENCIA</th>\n",
       "      <th>NU_IDADE</th>\n",
       "      <th>TP_SEXO</th>\n",
       "      <th>TP_COR_RACA</th>\n",
       "      <th>TP_NACIONALIDADE</th>\n",
       "      <th>TP_ST_CONCLUSAO</th>\n",
       "      <th>TP_ANO_CONCLUIU</th>\n",
       "      <th>TP_ESCOLA</th>\n",
       "      <th>...</th>\n",
       "      <th>Q001</th>\n",
       "      <th>Q002</th>\n",
       "      <th>Q006</th>\n",
       "      <th>Q024</th>\n",
       "      <th>Q025</th>\n",
       "      <th>Q026</th>\n",
       "      <th>Q027</th>\n",
       "      <th>Q047</th>\n",
       "      <th>TESTE</th>\n",
       "      <th>NU_NOTA_MT</th>\n",
       "    </tr>\n",
       "  </thead>\n",
       "  <tbody>\n",
       "    <tr>\n",
       "      <th>0</th>\n",
       "      <td>73ff9fcc02f0a99919906c942c2e1a1042cdcf98</td>\n",
       "      <td>41</td>\n",
       "      <td>PR</td>\n",
       "      <td>22</td>\n",
       "      <td>F</td>\n",
       "      <td>3</td>\n",
       "      <td>1</td>\n",
       "      <td>1</td>\n",
       "      <td>5</td>\n",
       "      <td>1</td>\n",
       "      <td>...</td>\n",
       "      <td>B</td>\n",
       "      <td>A</td>\n",
       "      <td>C</td>\n",
       "      <td>A</td>\n",
       "      <td>A</td>\n",
       "      <td>C</td>\n",
       "      <td>C</td>\n",
       "      <td>A</td>\n",
       "      <td>425.110175</td>\n",
       "      <td>425.110175</td>\n",
       "    </tr>\n",
       "    <tr>\n",
       "      <th>1</th>\n",
       "      <td>71a95f9f1b91a82c65ad94abbdf9f54e6066f968</td>\n",
       "      <td>21</td>\n",
       "      <td>MA</td>\n",
       "      <td>26</td>\n",
       "      <td>F</td>\n",
       "      <td>3</td>\n",
       "      <td>1</td>\n",
       "      <td>1</td>\n",
       "      <td>8</td>\n",
       "      <td>1</td>\n",
       "      <td>...</td>\n",
       "      <td>E</td>\n",
       "      <td>B</td>\n",
       "      <td>C</td>\n",
       "      <td>B</td>\n",
       "      <td>B</td>\n",
       "      <td>B</td>\n",
       "      <td>F</td>\n",
       "      <td>A</td>\n",
       "      <td>483.736766</td>\n",
       "      <td>483.736766</td>\n",
       "    </tr>\n",
       "    <tr>\n",
       "      <th>2</th>\n",
       "      <td>b38a03232f43b11c9d0788abaf060f7366053b6d</td>\n",
       "      <td>23</td>\n",
       "      <td>CE</td>\n",
       "      <td>21</td>\n",
       "      <td>M</td>\n",
       "      <td>1</td>\n",
       "      <td>1</td>\n",
       "      <td>2</td>\n",
       "      <td>0</td>\n",
       "      <td>2</td>\n",
       "      <td>...</td>\n",
       "      <td>E</td>\n",
       "      <td>E</td>\n",
       "      <td>D</td>\n",
       "      <td>B</td>\n",
       "      <td>B</td>\n",
       "      <td>A</td>\n",
       "      <td>NaN</td>\n",
       "      <td>A</td>\n",
       "      <td>560.950100</td>\n",
       "      <td>560.950100</td>\n",
       "    </tr>\n",
       "    <tr>\n",
       "      <th>3</th>\n",
       "      <td>70b682d9a3636be23f6120fa9d6b164eb3c6002d</td>\n",
       "      <td>15</td>\n",
       "      <td>PA</td>\n",
       "      <td>27</td>\n",
       "      <td>F</td>\n",
       "      <td>3</td>\n",
       "      <td>1</td>\n",
       "      <td>1</td>\n",
       "      <td>8</td>\n",
       "      <td>1</td>\n",
       "      <td>...</td>\n",
       "      <td>H</td>\n",
       "      <td>E</td>\n",
       "      <td>G</td>\n",
       "      <td>B</td>\n",
       "      <td>B</td>\n",
       "      <td>A</td>\n",
       "      <td>NaN</td>\n",
       "      <td>A</td>\n",
       "      <td>-2.864082</td>\n",
       "      <td>-2.864082</td>\n",
       "    </tr>\n",
       "    <tr>\n",
       "      <th>4</th>\n",
       "      <td>715494628a50142ce8cb17191cfe6d0f3cae0934</td>\n",
       "      <td>41</td>\n",
       "      <td>PR</td>\n",
       "      <td>18</td>\n",
       "      <td>M</td>\n",
       "      <td>1</td>\n",
       "      <td>1</td>\n",
       "      <td>2</td>\n",
       "      <td>0</td>\n",
       "      <td>2</td>\n",
       "      <td>...</td>\n",
       "      <td>D</td>\n",
       "      <td>H</td>\n",
       "      <td>H</td>\n",
       "      <td>C</td>\n",
       "      <td>B</td>\n",
       "      <td>A</td>\n",
       "      <td>NaN</td>\n",
       "      <td>A</td>\n",
       "      <td>550.836841</td>\n",
       "      <td>550.836841</td>\n",
       "    </tr>\n",
       "    <tr>\n",
       "      <th>...</th>\n",
       "      <td>...</td>\n",
       "      <td>...</td>\n",
       "      <td>...</td>\n",
       "      <td>...</td>\n",
       "      <td>...</td>\n",
       "      <td>...</td>\n",
       "      <td>...</td>\n",
       "      <td>...</td>\n",
       "      <td>...</td>\n",
       "      <td>...</td>\n",
       "      <td>...</td>\n",
       "      <td>...</td>\n",
       "      <td>...</td>\n",
       "      <td>...</td>\n",
       "      <td>...</td>\n",
       "      <td>...</td>\n",
       "      <td>...</td>\n",
       "      <td>...</td>\n",
       "      <td>...</td>\n",
       "      <td>...</td>\n",
       "      <td>...</td>\n",
       "    </tr>\n",
       "    <tr>\n",
       "      <th>4571</th>\n",
       "      <td>dac0f22429c7f8e3931d0abaf5dfc8e5c772a48b</td>\n",
       "      <td>41</td>\n",
       "      <td>PR</td>\n",
       "      <td>17</td>\n",
       "      <td>F</td>\n",
       "      <td>1</td>\n",
       "      <td>1</td>\n",
       "      <td>2</td>\n",
       "      <td>0</td>\n",
       "      <td>2</td>\n",
       "      <td>...</td>\n",
       "      <td>E</td>\n",
       "      <td>E</td>\n",
       "      <td>D</td>\n",
       "      <td>A</td>\n",
       "      <td>B</td>\n",
       "      <td>A</td>\n",
       "      <td>NaN</td>\n",
       "      <td>A</td>\n",
       "      <td>444.793832</td>\n",
       "      <td>444.793832</td>\n",
       "    </tr>\n",
       "    <tr>\n",
       "      <th>4572</th>\n",
       "      <td>a75fa8770257e7c9368d059fe53d9ef431f4bdef</td>\n",
       "      <td>35</td>\n",
       "      <td>SP</td>\n",
       "      <td>17</td>\n",
       "      <td>M</td>\n",
       "      <td>2</td>\n",
       "      <td>1</td>\n",
       "      <td>2</td>\n",
       "      <td>0</td>\n",
       "      <td>2</td>\n",
       "      <td>...</td>\n",
       "      <td>C</td>\n",
       "      <td>C</td>\n",
       "      <td>C</td>\n",
       "      <td>A</td>\n",
       "      <td>A</td>\n",
       "      <td>A</td>\n",
       "      <td>NaN</td>\n",
       "      <td>A</td>\n",
       "      <td>425.977156</td>\n",
       "      <td>425.977156</td>\n",
       "    </tr>\n",
       "    <tr>\n",
       "      <th>4573</th>\n",
       "      <td>655fa6306720ff16e825903b5422a46608a77545</td>\n",
       "      <td>35</td>\n",
       "      <td>SP</td>\n",
       "      <td>19</td>\n",
       "      <td>M</td>\n",
       "      <td>1</td>\n",
       "      <td>1</td>\n",
       "      <td>1</td>\n",
       "      <td>2</td>\n",
       "      <td>1</td>\n",
       "      <td>...</td>\n",
       "      <td>D</td>\n",
       "      <td>F</td>\n",
       "      <td>D</td>\n",
       "      <td>B</td>\n",
       "      <td>B</td>\n",
       "      <td>A</td>\n",
       "      <td>NaN</td>\n",
       "      <td>D</td>\n",
       "      <td>593.144506</td>\n",
       "      <td>593.144506</td>\n",
       "    </tr>\n",
       "    <tr>\n",
       "      <th>4574</th>\n",
       "      <td>1f4bc3e3d56212d500625bfe8ac78ccff4362293</td>\n",
       "      <td>52</td>\n",
       "      <td>GO</td>\n",
       "      <td>17</td>\n",
       "      <td>M</td>\n",
       "      <td>2</td>\n",
       "      <td>2</td>\n",
       "      <td>3</td>\n",
       "      <td>0</td>\n",
       "      <td>1</td>\n",
       "      <td>...</td>\n",
       "      <td>C</td>\n",
       "      <td>E</td>\n",
       "      <td>C</td>\n",
       "      <td>A</td>\n",
       "      <td>A</td>\n",
       "      <td>A</td>\n",
       "      <td>NaN</td>\n",
       "      <td>A</td>\n",
       "      <td>489.998129</td>\n",
       "      <td>489.998129</td>\n",
       "    </tr>\n",
       "    <tr>\n",
       "      <th>4575</th>\n",
       "      <td>adf0d15b54317b6564ef56dad2b775bbb0ef50cc</td>\n",
       "      <td>33</td>\n",
       "      <td>RJ</td>\n",
       "      <td>30</td>\n",
       "      <td>M</td>\n",
       "      <td>1</td>\n",
       "      <td>1</td>\n",
       "      <td>1</td>\n",
       "      <td>10</td>\n",
       "      <td>1</td>\n",
       "      <td>...</td>\n",
       "      <td>C</td>\n",
       "      <td>C</td>\n",
       "      <td>A</td>\n",
       "      <td>B</td>\n",
       "      <td>B</td>\n",
       "      <td>B</td>\n",
       "      <td>B</td>\n",
       "      <td>A</td>\n",
       "      <td>-2.864082</td>\n",
       "      <td>-2.864082</td>\n",
       "    </tr>\n",
       "  </tbody>\n",
       "</table>\n",
       "<p>4576 rows × 49 columns</p>\n",
       "</div>"
      ],
      "text/plain": [
       "                                  NU_INSCRICAO  CO_UF_RESIDENCIA  \\\n",
       "0     73ff9fcc02f0a99919906c942c2e1a1042cdcf98                41   \n",
       "1     71a95f9f1b91a82c65ad94abbdf9f54e6066f968                21   \n",
       "2     b38a03232f43b11c9d0788abaf060f7366053b6d                23   \n",
       "3     70b682d9a3636be23f6120fa9d6b164eb3c6002d                15   \n",
       "4     715494628a50142ce8cb17191cfe6d0f3cae0934                41   \n",
       "...                                        ...               ...   \n",
       "4571  dac0f22429c7f8e3931d0abaf5dfc8e5c772a48b                41   \n",
       "4572  a75fa8770257e7c9368d059fe53d9ef431f4bdef                35   \n",
       "4573  655fa6306720ff16e825903b5422a46608a77545                35   \n",
       "4574  1f4bc3e3d56212d500625bfe8ac78ccff4362293                52   \n",
       "4575  adf0d15b54317b6564ef56dad2b775bbb0ef50cc                33   \n",
       "\n",
       "     SG_UF_RESIDENCIA  NU_IDADE TP_SEXO  TP_COR_RACA  TP_NACIONALIDADE  \\\n",
       "0                  PR        22       F            3                 1   \n",
       "1                  MA        26       F            3                 1   \n",
       "2                  CE        21       M            1                 1   \n",
       "3                  PA        27       F            3                 1   \n",
       "4                  PR        18       M            1                 1   \n",
       "...               ...       ...     ...          ...               ...   \n",
       "4571               PR        17       F            1                 1   \n",
       "4572               SP        17       M            2                 1   \n",
       "4573               SP        19       M            1                 1   \n",
       "4574               GO        17       M            2                 2   \n",
       "4575               RJ        30       M            1                 1   \n",
       "\n",
       "      TP_ST_CONCLUSAO  TP_ANO_CONCLUIU  TP_ESCOLA  ...  Q001  Q002  Q006  \\\n",
       "0                   1                5          1  ...     B     A     C   \n",
       "1                   1                8          1  ...     E     B     C   \n",
       "2                   2                0          2  ...     E     E     D   \n",
       "3                   1                8          1  ...     H     E     G   \n",
       "4                   2                0          2  ...     D     H     H   \n",
       "...               ...              ...        ...  ...   ...   ...   ...   \n",
       "4571                2                0          2  ...     E     E     D   \n",
       "4572                2                0          2  ...     C     C     C   \n",
       "4573                1                2          1  ...     D     F     D   \n",
       "4574                3                0          1  ...     C     E     C   \n",
       "4575                1               10          1  ...     C     C     A   \n",
       "\n",
       "      Q024  Q025  Q026  Q027  Q047       TESTE  NU_NOTA_MT  \n",
       "0        A     A     C     C     A  425.110175  425.110175  \n",
       "1        B     B     B     F     A  483.736766  483.736766  \n",
       "2        B     B     A   NaN     A  560.950100  560.950100  \n",
       "3        B     B     A   NaN     A   -2.864082   -2.864082  \n",
       "4        C     B     A   NaN     A  550.836841  550.836841  \n",
       "...    ...   ...   ...   ...   ...         ...         ...  \n",
       "4571     A     B     A   NaN     A  444.793832  444.793832  \n",
       "4572     A     A     A   NaN     A  425.977156  425.977156  \n",
       "4573     B     B     A   NaN     D  593.144506  593.144506  \n",
       "4574     A     A     A   NaN     A  489.998129  489.998129  \n",
       "4575     B     B     B     B     A   -2.864082   -2.864082  \n",
       "\n",
       "[4576 rows x 49 columns]"
      ]
     },
     "execution_count": 384,
     "metadata": {},
     "output_type": "execute_result"
    }
   ],
   "source": [
    "df_test"
   ]
  },
  {
   "cell_type": "code",
   "execution_count": 385,
   "metadata": {},
   "outputs": [],
   "source": [
    "df_output = df_test[['NU_INSCRICAO','NU_NOTA_MT']]"
   ]
  },
  {
   "cell_type": "code",
   "execution_count": 386,
   "metadata": {},
   "outputs": [
    {
     "data": {
      "text/html": [
       "<div>\n",
       "<style scoped>\n",
       "    .dataframe tbody tr th:only-of-type {\n",
       "        vertical-align: middle;\n",
       "    }\n",
       "\n",
       "    .dataframe tbody tr th {\n",
       "        vertical-align: top;\n",
       "    }\n",
       "\n",
       "    .dataframe thead th {\n",
       "        text-align: right;\n",
       "    }\n",
       "</style>\n",
       "<table border=\"1\" class=\"dataframe\">\n",
       "  <thead>\n",
       "    <tr style=\"text-align: right;\">\n",
       "      <th></th>\n",
       "      <th>NU_INSCRICAO</th>\n",
       "      <th>NU_NOTA_MT</th>\n",
       "    </tr>\n",
       "  </thead>\n",
       "  <tbody>\n",
       "    <tr>\n",
       "      <th>0</th>\n",
       "      <td>73ff9fcc02f0a99919906c942c2e1a1042cdcf98</td>\n",
       "      <td>425.110175</td>\n",
       "    </tr>\n",
       "    <tr>\n",
       "      <th>1</th>\n",
       "      <td>71a95f9f1b91a82c65ad94abbdf9f54e6066f968</td>\n",
       "      <td>483.736766</td>\n",
       "    </tr>\n",
       "    <tr>\n",
       "      <th>2</th>\n",
       "      <td>b38a03232f43b11c9d0788abaf060f7366053b6d</td>\n",
       "      <td>560.950100</td>\n",
       "    </tr>\n",
       "    <tr>\n",
       "      <th>3</th>\n",
       "      <td>70b682d9a3636be23f6120fa9d6b164eb3c6002d</td>\n",
       "      <td>-2.864082</td>\n",
       "    </tr>\n",
       "    <tr>\n",
       "      <th>4</th>\n",
       "      <td>715494628a50142ce8cb17191cfe6d0f3cae0934</td>\n",
       "      <td>550.836841</td>\n",
       "    </tr>\n",
       "    <tr>\n",
       "      <th>...</th>\n",
       "      <td>...</td>\n",
       "      <td>...</td>\n",
       "    </tr>\n",
       "    <tr>\n",
       "      <th>4571</th>\n",
       "      <td>dac0f22429c7f8e3931d0abaf5dfc8e5c772a48b</td>\n",
       "      <td>444.793832</td>\n",
       "    </tr>\n",
       "    <tr>\n",
       "      <th>4572</th>\n",
       "      <td>a75fa8770257e7c9368d059fe53d9ef431f4bdef</td>\n",
       "      <td>425.977156</td>\n",
       "    </tr>\n",
       "    <tr>\n",
       "      <th>4573</th>\n",
       "      <td>655fa6306720ff16e825903b5422a46608a77545</td>\n",
       "      <td>593.144506</td>\n",
       "    </tr>\n",
       "    <tr>\n",
       "      <th>4574</th>\n",
       "      <td>1f4bc3e3d56212d500625bfe8ac78ccff4362293</td>\n",
       "      <td>489.998129</td>\n",
       "    </tr>\n",
       "    <tr>\n",
       "      <th>4575</th>\n",
       "      <td>adf0d15b54317b6564ef56dad2b775bbb0ef50cc</td>\n",
       "      <td>-2.864082</td>\n",
       "    </tr>\n",
       "  </tbody>\n",
       "</table>\n",
       "<p>4576 rows × 2 columns</p>\n",
       "</div>"
      ],
      "text/plain": [
       "                                  NU_INSCRICAO  NU_NOTA_MT\n",
       "0     73ff9fcc02f0a99919906c942c2e1a1042cdcf98  425.110175\n",
       "1     71a95f9f1b91a82c65ad94abbdf9f54e6066f968  483.736766\n",
       "2     b38a03232f43b11c9d0788abaf060f7366053b6d  560.950100\n",
       "3     70b682d9a3636be23f6120fa9d6b164eb3c6002d   -2.864082\n",
       "4     715494628a50142ce8cb17191cfe6d0f3cae0934  550.836841\n",
       "...                                        ...         ...\n",
       "4571  dac0f22429c7f8e3931d0abaf5dfc8e5c772a48b  444.793832\n",
       "4572  a75fa8770257e7c9368d059fe53d9ef431f4bdef  425.977156\n",
       "4573  655fa6306720ff16e825903b5422a46608a77545  593.144506\n",
       "4574  1f4bc3e3d56212d500625bfe8ac78ccff4362293  489.998129\n",
       "4575  adf0d15b54317b6564ef56dad2b775bbb0ef50cc   -2.864082\n",
       "\n",
       "[4576 rows x 2 columns]"
      ]
     },
     "execution_count": 386,
     "metadata": {},
     "output_type": "execute_result"
    }
   ],
   "source": [
    "df_output"
   ]
  },
  {
   "cell_type": "code",
   "execution_count": 388,
   "metadata": {},
   "outputs": [],
   "source": [
    "df_output.to_csv('answer.csv',sep=',',index=False)"
   ]
  },
  {
   "cell_type": "code",
   "execution_count": null,
   "metadata": {},
   "outputs": [],
   "source": []
  }
 ],
 "metadata": {
  "kernelspec": {
   "display_name": "Python 3",
   "language": "python",
   "name": "python3"
  },
  "language_info": {
   "codemirror_mode": {
    "name": "ipython",
    "version": 3
   },
   "file_extension": ".py",
   "mimetype": "text/x-python",
   "name": "python",
   "nbconvert_exporter": "python",
   "pygments_lexer": "ipython3",
   "version": "3.7.6"
  }
 },
 "nbformat": 4,
 "nbformat_minor": 4
}
